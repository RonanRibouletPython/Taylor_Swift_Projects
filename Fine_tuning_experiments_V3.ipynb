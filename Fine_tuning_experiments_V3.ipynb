{
 "cells": [
  {
   "cell_type": "markdown",
   "metadata": {},
   "source": [
    "In this notebook we will:\n",
    "- Use Albumentations to create a new augmented datasets with thousands of augmented images\n",
    "- Fine tune the EfficientNetV2 model for maximum F1 score and the final deployment of the model to our website"
   ]
  },
  {
   "cell_type": "code",
   "execution_count": null,
   "metadata": {},
   "outputs": [],
   "source": [
    "import tensorflow as tf\n",
    "import matplotlib.pyplot as plt\n",
    "import numpy as np\n",
    "import albumentations as A"
   ]
  },
  {
   "cell_type": "code",
   "execution_count": 2,
   "metadata": {},
   "outputs": [],
   "source": [
    "import warnings\n",
    "warnings.filterwarnings('ignore')"
   ]
  },
  {
   "cell_type": "code",
   "execution_count": 3,
   "metadata": {},
   "outputs": [],
   "source": [
    "# Hyperparameters\n",
    "IMAGE_SIZE = 256\n",
    "BATCH_SIZE = 8\n",
    "CHANNELS= 3\n",
    "ES_EPOCHS = 20 \n",
    "CLASSES = 10\n",
    "EPOCHS= 200"
   ]
  },
  {
   "cell_type": "code",
   "execution_count": 4,
   "metadata": {},
   "outputs": [],
   "source": [
    "CLASS_NAMES = [\"1989\", \"Acoustic\", \"Fearless\", \"Folkmore\", \"Lover\", \"Midnights\", \"Red\", \"Reputation\", \"Speak Now\", \"TTPD\"]"
   ]
  },
  {
   "cell_type": "code",
   "execution_count": 5,
   "metadata": {},
   "outputs": [],
   "source": [
    "# Train\n",
    "train_directory = \"C:/Users/Ronan/Documents/ML/Taylor_Swift_Projects/CNN/train\"\n",
    "\n",
    "# Val\n",
    "val_directory = \"C:/Users/Ronan/Documents/ML/Taylor_Swift_Projects/CNN/val\"\n",
    "\n",
    "# Test\n",
    "test_directory = \"C:/Users/Ronan/Documents/ML/Taylor_Swift_Projects/CNN/test\""
   ]
  },
  {
   "cell_type": "markdown",
   "metadata": {},
   "source": [
    "Data augmentation pipeline using Albumentations "
   ]
  },
  {
   "cell_type": "code",
   "execution_count": 6,
   "metadata": {},
   "outputs": [],
   "source": [
    "import random\n",
    "\n",
    "import cv2\n",
    "from matplotlib import pyplot as plt"
   ]
  },
  {
   "cell_type": "code",
   "execution_count": 7,
   "metadata": {},
   "outputs": [],
   "source": [
    "def visualize(image):\n",
    "    plt.figure(figsize=(10, 10))\n",
    "    plt.axis('off')\n",
    "    plt.imshow(image)"
   ]
  },
  {
   "cell_type": "code",
   "execution_count": null,
   "metadata": {},
   "outputs": [],
   "source": [
    "image = cv2.imread('Images_App_Test/1989_orange.jpeg')\n",
    "image = cv2.cvtColor(image, cv2.COLOR_BGR2RGB)\n",
    "visualize(image)"
   ]
  },
  {
   "cell_type": "code",
   "execution_count": 9,
   "metadata": {},
   "outputs": [],
   "source": [
    "transforms = A.Compose([\n",
    "            A.Rotate(limit=40),\n",
    "            A.RandomBrightnessContrast(brightness_limit=0.1, contrast_limit=0.1, p=0.5),\n",
    "            A.HueSaturationValue(hue_shift_limit=20, sat_shift_limit=30, val_shift_limit=20, p=0.5),\n",
    "            A.HorizontalFlip(),\n",
    "            A.ShiftScaleRotate(p=0.5),\n",
    "            A.Blur(blur_limit=3),\n",
    "            A.OpticalDistortion(),\n",
    "            A.GridDistortion(),\n",
    "        ])"
   ]
  },
  {
   "cell_type": "code",
   "execution_count": 16,
   "metadata": {},
   "outputs": [
    {
     "name": "stdout",
     "output_type": "stream",
     "text": [
      "Data augmentation complete!\n"
     ]
    }
   ],
   "source": [
    "import os\n",
    "import cv2\n",
    "import random\n",
    "import albumentations as A\n",
    "\n",
    "# Define paths\n",
    "dataset_path = 'train'  # Replace with your dataset path\n",
    "augmented_dataset_path = 'augmented_train'  # Replace with desired output path\n",
    "\n",
    "# Define augmentation pipeline\n",
    "transform = A.Compose([\n",
    "    A.HorizontalFlip(p=0.5),              # Horizontal flip with 50% probability\n",
    "    A.VerticalFlip(p=0.5),                # Vertical flip with 50% probability\n",
    "    A.RandomRotate90(p=0.5),              # Random 90-degree rotation with 50% probability\n",
    "    A.RandomBrightnessContrast(p=0.5),      # Random brightness/contrast adjustments\n",
    "    A.ShiftScaleRotate(shift_limit=0.2, scale_limit=0.2, rotate_limit=30, p=0.5),  # Random shift, scale, and rotation\n",
    "    A.HueSaturationValue(hue_shift_limit=20, sat_shift_limit=30, val_shift_limit=20, p=0.5),  # Random hue, saturation, and value adjustments\n",
    "    A.GaussianBlur(blur_limit=(3, 7), p=0.5),  # Gaussian blur with random kernel size\n",
    "], p=1.0)  # Apply the entire pipeline with probability 1.0\n",
    "\n",
    "# Function to augment images in a directory\n",
    "def augment_images(source_dir, dest_dir, num_augmentations=10):\n",
    "    \"\"\"\n",
    "    Augments images in a source directory and saves them to a destination directory.\n",
    "\n",
    "    Args:\n",
    "        source_dir (str): Path to the directory containing the original images.\n",
    "        dest_dir (str): Path to the directory where augmented images will be saved.\n",
    "        num_augmentations (int): Number of augmentations to generate per image.\n",
    "    \"\"\"\n",
    "    for filename in os.listdir(source_dir):\n",
    "        if filename.endswith(('.jpg', '.jpeg', '.png')):\n",
    "            image_path = os.path.join(source_dir, filename)\n",
    "            image = cv2.imread(image_path)\n",
    "            image = cv2.cvtColor(image, cv2.COLOR_BGR2RGB)\n",
    "\n",
    "            for i in range(num_augmentations):\n",
    "                augmented_image = transform(image=image)['image']\n",
    "                augmented_filename = f\"{os.path.splitext(filename)[0]}_aug_{i}.jpg\"\n",
    "                augmented_path = os.path.join(dest_dir, augmented_filename)\n",
    "                cv2.imwrite(augmented_path, cv2.cvtColor(augmented_image, cv2.COLOR_RGB2BGR))\n",
    "\n",
    "# Create the augmented dataset directory structure\n",
    "if not os.path.exists(augmented_dataset_path):\n",
    "    os.makedirs(augmented_dataset_path)\n",
    "\n",
    "# Iterate through classes and augment images\n",
    "for class_name in os.listdir(dataset_path):\n",
    "    class_source_dir = os.path.join(dataset_path, class_name)\n",
    "    class_dest_dir = os.path.join(augmented_dataset_path, class_name)\n",
    "    if not os.path.exists(class_dest_dir):\n",
    "        os.makedirs(class_dest_dir)\n",
    "    augment_images(class_source_dir, class_dest_dir)\n",
    "\n",
    "print(\"Data augmentation complete!\")"
   ]
  },
  {
   "cell_type": "code",
   "execution_count": null,
   "metadata": {},
   "outputs": [],
   "source": []
  }
 ],
 "metadata": {
  "kernelspec": {
   "display_name": "Python 3",
   "language": "python",
   "name": "python3"
  },
  "language_info": {
   "codemirror_mode": {
    "name": "ipython",
    "version": 3
   },
   "file_extension": ".py",
   "mimetype": "text/x-python",
   "name": "python",
   "nbconvert_exporter": "python",
   "pygments_lexer": "ipython3",
   "version": "3.12.3"
  }
 },
 "nbformat": 4,
 "nbformat_minor": 2
}
