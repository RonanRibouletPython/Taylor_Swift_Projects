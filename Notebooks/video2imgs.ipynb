{
 "cells": [
  {
   "cell_type": "code",
   "execution_count": 1,
   "metadata": {},
   "outputs": [],
   "source": [
    "import cv2\n",
    "import os\n",
    "import tensorflow as tf\n",
    "import numpy as np"
   ]
  },
  {
   "cell_type": "code",
   "execution_count": 20,
   "metadata": {},
   "outputs": [
    {
     "name": "stdout",
     "output_type": "stream",
     "text": [
      "Screenshot saved to: screenshots/0.jpg\n",
      "Screenshot saved to: screenshots/1.jpg\n",
      "Screenshot saved to: screenshots/2.jpg\n",
      "Screenshot saved to: screenshots/3.jpg\n",
      "Screenshot saved to: screenshots/4.jpg\n",
      "Screenshot saved to: screenshots/5.jpg\n"
     ]
    }
   ],
   "source": [
    "def capture_frames(video_path, output_folder, interval):\n",
    "  \"\"\"\n",
    "  Captures screenshots from a video at a fixed interval.\n",
    "\n",
    "  Args:\n",
    "      video_path (str): The path to the MP4 video file.\n",
    "      output_folder (str): The folder to save the screenshots.\n",
    "      interval (int): The interval in seconds between screenshots.\n",
    "  \"\"\"\n",
    "  # Create the output folder if it does not exist\n",
    "  if not os.path.exists(output_folder):\n",
    "    os.makedirs(output_folder)\n",
    "\n",
    "  # Open the video file\n",
    "  cap = cv2.VideoCapture(video_path)\n",
    "  if not cap.isOpened():\n",
    "    print(\"Error opening video file.\")\n",
    "\n",
    "  # Get the video's frame rate\n",
    "  fps = cap.get(cv2.CAP_PROP_FPS)\n",
    "\n",
    "  # Calculate the frame interval based on the desired time interval\n",
    "  frame_interval = int(fps * interval)\n",
    "\n",
    "  # Initialize the frame counter and screenshot counter\n",
    "  frame_count = 0\n",
    "  screenshot_count = 0\n",
    "\n",
    "  while True:\n",
    "    # Read a frame from the video\n",
    "    ret, frame = cap.read()\n",
    "\n",
    "    # Break the loop if the frame is not read properly\n",
    "    if not ret:\n",
    "      break\n",
    "\n",
    "    # Capture a screenshot at the specified interval\n",
    "    if frame_count % frame_interval == 0:\n",
    "      screenshot_path = f\"{output_folder}/{screenshot_count:d}.jpg\"\n",
    "      cv2.imwrite(screenshot_path, frame)\n",
    "      print(f\"Screenshot saved to: {screenshot_path}\")\n",
    "      screenshot_count += 1\n",
    "\n",
    "    frame_count += 1\n",
    "\n",
    "  # Release the video capture object\n",
    "  cap.release()\n",
    "\n",
    "# Example usage\n",
    "video_path = \"../test_lover.mp4\"  # Replace with the path to your video\n",
    "output_folder = \"screenshots\"  # Replace with the desired output folder\n",
    "interval = 5  # Capture a screenshot every 5 seconds\n",
    "\n",
    "capture_frames(video_path, output_folder, 20)"
   ]
  },
  {
   "cell_type": "code",
   "execution_count": 21,
   "metadata": {},
   "outputs": [],
   "source": [
    "from io import BytesIO\n",
    "from PIL import Image\n",
    "\n",
    "def read_file_as_img(file_path)-> np.ndarray:\n",
    "    with open(file_path, 'rb') as f:\n",
    "        data = f.read()\n",
    "    image = np.array(Image.open(BytesIO(data)))\n",
    "\n",
    "    return image"
   ]
  },
  {
   "cell_type": "code",
   "execution_count": 22,
   "metadata": {},
   "outputs": [],
   "source": [
    "# Load the tensorflow model\n",
    "PROD_MODEL_PATH = \"C:/Users/Ronan/Documents/ML/Taylor_Swift_Projects/CNN/backend/best_model_weighted_RESNET50_getty_aug.keras\"\n",
    "\n",
    "PROD_MODEL = tf.keras.models.load_model(PROD_MODEL_PATH)"
   ]
  },
  {
   "cell_type": "code",
   "execution_count": 23,
   "metadata": {},
   "outputs": [],
   "source": [
    "CLASS_NAMES = [\"1989\", \"Acoustic\", \"Fearless\", \"Folkmore\", \"Lover\", \"Midnights\", \"Red\", \"Reputation\", \"Speak Now\", \"TTPD\"]"
   ]
  },
  {
   "cell_type": "code",
   "execution_count": 24,
   "metadata": {},
   "outputs": [],
   "source": [
    "predicted_classes = {\n",
    "    \"1989\": 0.0,\n",
    "    \"Acoustic\": 0.0,\n",
    "    \"Fearless\": 0.0,\n",
    "    \"Folkmore\": 0.0,\n",
    "    \"Lover\": 0.0,\n",
    "    \"Midnights\": 0.0,\n",
    "    \"Red\": 0.0,\n",
    "    \"Reputation\": 0.0,\n",
    "    \"Speak Now\": 0.0,\n",
    "    \"TTPD\": 0.0\n",
    "}"
   ]
  },
  {
   "cell_type": "code",
   "execution_count": 26,
   "metadata": {},
   "outputs": [
    {
     "name": "stdout",
     "output_type": "stream",
     "text": [
      "\u001b[1m1/1\u001b[0m \u001b[32m━━━━━━━━━━━━━━━━━━━━\u001b[0m\u001b[37m\u001b[0m \u001b[1m0s\u001b[0m 116ms/step\n",
      "\u001b[1m1/1\u001b[0m \u001b[32m━━━━━━━━━━━━━━━━━━━━\u001b[0m\u001b[37m\u001b[0m \u001b[1m0s\u001b[0m 109ms/step\n",
      "\u001b[1m1/1\u001b[0m \u001b[32m━━━━━━━━━━━━━━━━━━━━\u001b[0m\u001b[37m\u001b[0m \u001b[1m0s\u001b[0m 123ms/step\n",
      "\u001b[1m1/1\u001b[0m \u001b[32m━━━━━━━━━━━━━━━━━━━━\u001b[0m\u001b[37m\u001b[0m \u001b[1m0s\u001b[0m 113ms/step\n",
      "\u001b[1m1/1\u001b[0m \u001b[32m━━━━━━━━━━━━━━━━━━━━\u001b[0m\u001b[37m\u001b[0m \u001b[1m0s\u001b[0m 129ms/step\n"
     ]
    }
   ],
   "source": [
    "for i in range(0, 5): \n",
    "    img = read_file_as_img(f\"C:/Users/Ronan/Documents/ML/Taylor_Swift_Projects/CNN/Notebooks/screenshots/{i}.jpg\")\n",
    "    img = tf.image.resize(img, [384, 384])\n",
    "    img_batch = np.expand_dims(img, 0)\n",
    "    predictions = PROD_MODEL.predict(img_batch)\n",
    "\n",
    "    # Update the accumulated predictions\n",
    "    predicted_classes[\"1989\"] += predictions[0][0]\n",
    "    predicted_classes[\"Acoustic\"] += predictions[0][1]\n",
    "    predicted_classes[\"Fearless\"] += predictions[0][2]\n",
    "    predicted_classes[\"Folkmore\"] += predictions[0][3]\n",
    "    predicted_classes[\"Lover\"] += predictions[0][4]\n",
    "    predicted_classes[\"Midnights\"] += predictions[0][5]\n",
    "    predicted_classes[\"Red\"] += predictions[0][6]\n",
    "    predicted_classes[\"Reputation\"] += predictions[0][7]\n",
    "    predicted_classes[\"Speak Now\"] += predictions[0][8]\n",
    "    predicted_classes[\"TTPD\"] += predictions[0][9]\n"
   ]
  },
  {
   "cell_type": "code",
   "execution_count": 27,
   "metadata": {},
   "outputs": [
    {
     "data": {
      "text/plain": [
       "{'1989': 1.1117329504340887,\n",
       " 'Acoustic': 0.1665979102253914,\n",
       " 'Fearless': 0.4350551732350141,\n",
       " 'Folkmore': 0.07963944785296917,\n",
       " 'Lover': 4.528434783220291,\n",
       " 'Midnights': 0.3443771068705246,\n",
       " 'Red': 0.4497597311856225,\n",
       " 'Reputation': 0.08815603842958808,\n",
       " 'Speak Now': 1.761133225634694,\n",
       " 'TTPD': 2.0351138613186777}"
      ]
     },
     "execution_count": 27,
     "metadata": {},
     "output_type": "execute_result"
    }
   ],
   "source": [
    "predicted_classes"
   ]
  },
  {
   "cell_type": "code",
   "execution_count": 28,
   "metadata": {},
   "outputs": [],
   "source": [
    "predicted_class = max(predicted_classes, key=predicted_classes.get)"
   ]
  },
  {
   "cell_type": "code",
   "execution_count": 29,
   "metadata": {},
   "outputs": [
    {
     "data": {
      "text/plain": [
       "'Lover'"
      ]
     },
     "execution_count": 29,
     "metadata": {},
     "output_type": "execute_result"
    }
   ],
   "source": [
    "predicted_class"
   ]
  },
  {
   "cell_type": "code",
   "execution_count": 31,
   "metadata": {},
   "outputs": [
    {
     "name": "stdout",
     "output_type": "stream",
     "text": [
      "Deleted file: screenshots\\0.jpg\n",
      "Deleted file: screenshots\\1.jpg\n",
      "Deleted file: screenshots\\2.jpg\n",
      "Deleted file: screenshots\\3.jpg\n",
      "Deleted file: screenshots\\4.jpg\n",
      "Deleted file: screenshots\\5.jpg\n"
     ]
    }
   ],
   "source": [
    "def delete_files_in_directory(directory_path):\n",
    "  \"\"\"Deletes all files within a specified directory.\n",
    "\n",
    "  Args:\n",
    "    directory_path: The path to the directory containing the files to delete.\n",
    "  \"\"\"\n",
    "\n",
    "  if not os.path.exists(directory_path):\n",
    "    print(f\"Error: Directory not found: {directory_path}\")\n",
    "\n",
    "  for filename in os.listdir(directory_path):\n",
    "    file_path = os.path.join(directory_path, filename)\n",
    "    try:\n",
    "      if os.path.isfile(file_path):\n",
    "        os.remove(file_path)\n",
    "        print(f\"Deleted file: {file_path}\")\n",
    "    except Exception as e:\n",
    "      print(f\"Error deleting {file_path}: {e}\")\n",
    "\n",
    "directory_to_clean = \"screenshots\"\n",
    "delete_files_in_directory(directory_to_clean)"
   ]
  }
 ],
 "metadata": {
  "kernelspec": {
   "display_name": "Python 3",
   "language": "python",
   "name": "python3"
  },
  "language_info": {
   "codemirror_mode": {
    "name": "ipython",
    "version": 3
   },
   "file_extension": ".py",
   "mimetype": "text/x-python",
   "name": "python",
   "nbconvert_exporter": "python",
   "pygments_lexer": "ipython3",
   "version": "3.12.3"
  }
 },
 "nbformat": 4,
 "nbformat_minor": 2
}
