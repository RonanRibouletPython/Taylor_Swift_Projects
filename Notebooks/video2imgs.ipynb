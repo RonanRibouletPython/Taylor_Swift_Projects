{
 "cells": [
  {
   "cell_type": "code",
   "execution_count": 20,
   "metadata": {},
   "outputs": [],
   "source": [
    "import cv2\n",
    "import os\n",
    "import tensorflow as tf\n",
    "import numpy as np"
   ]
  },
  {
   "cell_type": "code",
   "execution_count": 19,
   "metadata": {},
   "outputs": [
    {
     "name": "stdout",
     "output_type": "stream",
     "text": [
      "Screenshot saved to: screenshots/0000.jpg\n",
      "Screenshot saved to: screenshots/0001.jpg\n",
      "Screenshot saved to: screenshots/0002.jpg\n",
      "Screenshot saved to: screenshots/0003.jpg\n",
      "Screenshot saved to: screenshots/0004.jpg\n",
      "Screenshot saved to: screenshots/0005.jpg\n",
      "Screenshot saved to: screenshots/0006.jpg\n",
      "Screenshot saved to: screenshots/0007.jpg\n",
      "Screenshot saved to: screenshots/0008.jpg\n",
      "Screenshot saved to: screenshots/0009.jpg\n",
      "Screenshot saved to: screenshots/0010.jpg\n",
      "Screenshot saved to: screenshots/0011.jpg\n"
     ]
    }
   ],
   "source": [
    "def capture_frames(video_path, output_folder, interval):\n",
    "  \"\"\"\n",
    "  Captures screenshots from a video at a fixed interval.\n",
    "\n",
    "  Args:\n",
    "      video_path (str): The path to the MP4 video file.\n",
    "      output_folder (str): The folder to save the screenshots.\n",
    "      interval (int): The interval in seconds between screenshots.\n",
    "  \"\"\"\n",
    "  # Create the output folder if it does not exist\n",
    "  if not os.path.exists(output_folder):\n",
    "    os.makedirs(output_folder)\n",
    "\n",
    "  # Open the video file\n",
    "  cap = cv2.VideoCapture(video_path)\n",
    "  if not cap.isOpened():\n",
    "    print(\"Error opening video file.\")\n",
    "\n",
    "  # Get the video's frame rate\n",
    "  fps = cap.get(cv2.CAP_PROP_FPS)\n",
    "\n",
    "  # Calculate the frame interval based on the desired time interval\n",
    "  frame_interval = int(fps * interval)\n",
    "\n",
    "  # Initialize the frame counter and screenshot counter\n",
    "  frame_count = 0\n",
    "  screenshot_count = 0\n",
    "\n",
    "  while True:\n",
    "    # Read a frame from the video\n",
    "    ret, frame = cap.read()\n",
    "\n",
    "    # Break the loop if the frame is not read properly\n",
    "    if not ret:\n",
    "      break\n",
    "\n",
    "    # Capture a screenshot at the specified interval\n",
    "    if frame_count % frame_interval == 0:\n",
    "      screenshot_path = f\"{output_folder}/{screenshot_count:04d}.jpg\"\n",
    "      cv2.imwrite(screenshot_path, frame)\n",
    "      print(f\"Screenshot saved to: {screenshot_path}\")\n",
    "      screenshot_count += 1\n",
    "\n",
    "    frame_count += 1\n",
    "\n",
    "  # Release the video capture object\n",
    "  cap.release()\n",
    "\n",
    "# Example usage\n",
    "video_path = \"../video_test.mp4\"  # Replace with the path to your video\n",
    "output_folder = \"screenshots\"  # Replace with the desired output folder\n",
    "interval = 5  # Capture a screenshot every 5 seconds\n",
    "\n",
    "capture_frames(video_path, output_folder, interval)"
   ]
  },
  {
   "cell_type": "code",
   "execution_count": null,
   "metadata": {},
   "outputs": [],
   "source": [
    "from io import BytesIO\n",
    "from PIL import Image\n",
    "\n",
    "def read_file_as_img(file_path)-> np.ndarray:\n",
    "    with open(file_path, 'rb') as f:\n",
    "        data = f.read()\n",
    "    image = np.array(Image.open(BytesIO(data)))\n",
    "\n",
    "    return image"
   ]
  },
  {
   "cell_type": "code",
   "execution_count": null,
   "metadata": {},
   "outputs": [],
   "source": [
    "# Load the tensorflow model\n",
    "PROD_MODEL_PATH = \"saved_models/all_VGG16_models/best_model_weighted_RESNET50.keras\"\n",
    "\n",
    "PROD_MODEL = tf.keras.models.load_model(PROD_MODEL_PATH)"
   ]
  },
  {
   "cell_type": "code",
   "execution_count": null,
   "metadata": {},
   "outputs": [],
   "source": [
    "CLASS_NAMES = [\"1989\", \"Acoustic\", \"Fearless\", \"Folkmore\", \"Lover\", \"Midnights\", \"Red\", \"Reputation\", \"Speak Now\", \"TTPD\"]"
   ]
  },
  {
   "cell_type": "code",
   "execution_count": null,
   "metadata": {},
   "outputs": [],
   "source": [
    "img = read_file_as_img(\"images/taylor-swift-eras-tour-032023-3-1-cab011d6ac7243e68b93d383134ad604.jpg\")\n",
    "\n",
    "# Resize the image to 256x256\n",
    "img = tf.image.resize(img, [256, 256]) \n",
    "\n",
    "# Predict the image classification\n",
    "img_batch = np.expand_dims(img, 0)\n",
    "predictions = PROD_MODEL.predict(img_batch)\n",
    "\n",
    "predicted_class = CLASS_NAMES[np.argmax(predictions[0])]"
   ]
  }
 ],
 "metadata": {
  "kernelspec": {
   "display_name": "Python 3",
   "language": "python",
   "name": "python3"
  },
  "language_info": {
   "codemirror_mode": {
    "name": "ipython",
    "version": 3
   },
   "file_extension": ".py",
   "mimetype": "text/x-python",
   "name": "python",
   "nbconvert_exporter": "python",
   "pygments_lexer": "ipython3",
   "version": "3.12.3"
  }
 },
 "nbformat": 4,
 "nbformat_minor": 2
}
